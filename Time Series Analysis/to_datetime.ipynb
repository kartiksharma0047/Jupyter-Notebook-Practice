{
  "nbformat": 4,
  "nbformat_minor": 0,
  "metadata": {
    "colab": {
      "provenance": []
    },
    "kernelspec": {
      "name": "python3",
      "display_name": "Python 3"
    },
    "language_info": {
      "name": "python"
    }
  },
  "cells": [
    {
      "cell_type": "code",
      "execution_count": 3,
      "metadata": {
        "id": "1_G0rzjSi28M"
      },
      "outputs": [],
      "source": [
        "import pandas as pd\n",
        "# We have variety of date and time format\n",
        "dates=['2017-01-05 2:30:00 PM','Jan 5, 2017 14:30:00','01/05/2017','2017.01.05','2017/01/05','20170105']"
      ]
    },
    {
      "cell_type": "code",
      "source": [
        "# Lets convert them to date and time format\n",
        "pd.to_datetime(dates)"
      ],
      "metadata": {
        "colab": {
          "base_uri": "https://localhost:8080/"
        },
        "id": "C9pB6T6-2RvH",
        "outputId": "adcb587e-ac87-4ca2-9443-4bd0e1a57946"
      },
      "execution_count": 5,
      "outputs": [
        {
          "output_type": "stream",
          "name": "stderr",
          "text": [
            "<ipython-input-5-476ef5f010a2>:2: UserWarning: Could not infer format, so each element will be parsed individually, falling back to `dateutil`. To ensure parsing is consistent and as-expected, please specify a format.\n",
            "  pd.to_datetime(dates)\n"
          ]
        },
        {
          "output_type": "execute_result",
          "data": {
            "text/plain": [
              "DatetimeIndex(['2017-01-05 14:30:00', '2017-01-05 14:30:00',\n",
              "               '2017-01-05 00:00:00', '2017-01-05 00:00:00',\n",
              "               '2017-01-05 00:00:00', '2017-01-05 00:00:00'],\n",
              "              dtype='datetime64[ns]', freq=None)"
            ]
          },
          "metadata": {},
          "execution_count": 5
        }
      ]
    },
    {
      "cell_type": "code",
      "source": [
        "# Now we have Europe (dd/mm/yyyy) and US (mm/dd/yyyy) Date time\n",
        "EuropeTime=pd.to_datetime('2017-05-01 00:00:00',dayfirst=True)\n",
        "UsTime=pd.to_datetime('2017-05-01 00:00:00',dayfirst=False)\n",
        "print(\"Europe Time:\",EuropeTime)\n",
        "print(\"US Time:\",UsTime)"
      ],
      "metadata": {
        "colab": {
          "base_uri": "https://localhost:8080/"
        },
        "id": "3NZKS8zm8_Dg",
        "outputId": "97c1b4eb-7249-4e09-80c0-c960908a6c32"
      },
      "execution_count": 9,
      "outputs": [
        {
          "output_type": "stream",
          "name": "stdout",
          "text": [
            "Europe Time: 2017-01-05 00:00:00\n",
            "US Time: 2017-05-01 00:00:00\n"
          ]
        }
      ]
    },
    {
      "cell_type": "code",
      "source": [
        "# Custom Formatted date\n",
        "pd.to_datetime('2017$01$05',format='%Y$%m$%d')"
      ],
      "metadata": {
        "colab": {
          "base_uri": "https://localhost:8080/"
        },
        "id": "3FcaZXPXJSvO",
        "outputId": "fff9e1c6-615f-4695-f7e7-9d4461001677"
      },
      "execution_count": 11,
      "outputs": [
        {
          "output_type": "execute_result",
          "data": {
            "text/plain": [
              "Timestamp('2017-01-05 00:00:00')"
            ]
          },
          "metadata": {},
          "execution_count": 11
        }
      ]
    },
    {
      "cell_type": "code",
      "source": [
        "# To convert Epoch time example - 1501356743 sec to date and time, then\n",
        "pd.to_datetime(1501356743,unit='s')"
      ],
      "metadata": {
        "colab": {
          "base_uri": "https://localhost:8080/"
        },
        "id": "Mcbg_1QxMMxn",
        "outputId": "841de462-5330-4547-f3d0-c41857f11b75"
      },
      "execution_count": 12,
      "outputs": [
        {
          "output_type": "execute_result",
          "data": {
            "text/plain": [
              "Timestamp('2017-07-29 19:32:23')"
            ]
          },
          "metadata": {},
          "execution_count": 12
        }
      ]
    }
  ]
}