{
  "nbformat": 4,
  "nbformat_minor": 0,
  "metadata": {
    "colab": {
      "provenance": []
    },
    "kernelspec": {
      "name": "python3",
      "display_name": "Python 3"
    },
    "language_info": {
      "name": "python"
    }
  },
  "cells": [
    {
      "cell_type": "code",
      "execution_count": 5,
      "metadata": {
        "id": "_wpyvb1kl63L"
      },
      "outputs": [],
      "source": [
        "# Wroking with series and label Concepts\n",
        "import pandas as pd\n",
        "data=[\"Kartik\",\"Diya\",\"Rahul\",\"Kunal\",\"Vatsal\"]\n",
        "indexForData = [f\"Person{idx + 1}\" for idx, i in enumerate(data)]\n",
        "data2={\n",
        "    \"Name\":\"Kartik\",\n",
        "    \"Age\":25,\n",
        "    \"Roll no\":\"22BCAN567\"\n",
        "}"
      ]
    },
    {
      "cell_type": "code",
      "source": [
        "myvar1=pd.Series(data,index=indexForData)\n",
        "print(myvar1)"
      ],
      "metadata": {
        "colab": {
          "base_uri": "https://localhost:8080/"
        },
        "id": "6UeGH7u9nlyw",
        "outputId": "1362ca35-269a-4fca-c7b5-68f6bf895c7e"
      },
      "execution_count": 7,
      "outputs": [
        {
          "output_type": "stream",
          "name": "stdout",
          "text": [
            "Person1    Kartik\n",
            "Person2      Diya\n",
            "Person3     Rahul\n",
            "Person4     Kunal\n",
            "Person5    Vatsal\n",
            "dtype: object\n"
          ]
        }
      ]
    },
    {
      "cell_type": "code",
      "source": [
        "myvar2=pd.Series(data2)\n",
        "print(myvar2)"
      ],
      "metadata": {
        "colab": {
          "base_uri": "https://localhost:8080/"
        },
        "id": "wcDiNmQgodoe",
        "outputId": "001ad50b-6c92-421c-9f08-b59f7e48664c"
      },
      "execution_count": 8,
      "outputs": [
        {
          "output_type": "stream",
          "name": "stdout",
          "text": [
            "Name          Kartik\n",
            "Age               25\n",
            "Roll no    22BCAN567\n",
            "dtype: object\n"
          ]
        }
      ]
    }
  ]
}