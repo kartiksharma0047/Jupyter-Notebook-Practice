{
  "nbformat": 4,
  "nbformat_minor": 0,
  "metadata": {
    "colab": {
      "provenance": []
    },
    "kernelspec": {
      "name": "python3",
      "display_name": "Python 3"
    },
    "language_info": {
      "name": "python"
    }
  },
  "cells": [
    {
      "cell_type": "code",
      "execution_count": 5,
      "metadata": {
        "id": "rY5rgDJm2M62"
      },
      "outputs": [],
      "source": [
        "# Here we will be practicing about DataFrames in pandas\n",
        "import pandas as pd\n",
        "data={\n",
        "    \"Person\":[\"Kartik\",\"Diya\",\"Jatin\",\"Karma\"],\n",
        "    \"Sleep_Hours\":[8,8,10,11]\n",
        "}"
      ]
    },
    {
      "cell_type": "code",
      "source": [
        "print(pd.DataFrame(data))"
      ],
      "metadata": {
        "colab": {
          "base_uri": "https://localhost:8080/"
        },
        "id": "E_dOGg9O2zJc",
        "outputId": "f62e44d7-8255-4c77-8844-d1274a70b024"
      },
      "execution_count": 6,
      "outputs": [
        {
          "output_type": "stream",
          "name": "stdout",
          "text": [
            "   Person  Sleep_Hours\n",
            "0  Kartik            8\n",
            "1    Diya            8\n",
            "2   Jatin           10\n",
            "3   Karma           11\n"
          ]
        }
      ]
    },
    {
      "cell_type": "code",
      "source": [
        "print(pd.DataFrame(data).loc[1])"
      ],
      "metadata": {
        "colab": {
          "base_uri": "https://localhost:8080/"
        },
        "id": "w5EVYMCN5mLQ",
        "outputId": "d7d067ec-dcd2-4f1c-af67-2622be1c4c03"
      },
      "execution_count": 7,
      "outputs": [
        {
          "output_type": "stream",
          "name": "stdout",
          "text": [
            "Person         Diya\n",
            "Sleep_Hours       8\n",
            "Name: 1, dtype: object\n"
          ]
        }
      ]
    }
  ]
}